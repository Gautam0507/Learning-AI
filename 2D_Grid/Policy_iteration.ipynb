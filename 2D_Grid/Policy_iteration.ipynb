{
 "cells": [
  {
   "attachments": {},
   "cell_type": "markdown",
   "metadata": {},
   "source": [
    "# Importing all the libraries"
   ]
  },
  {
   "cell_type": "code",
   "execution_count": 1,
   "metadata": {},
   "outputs": [],
   "source": [
    "from env import Grid_World\n",
    "import gymnasium as gym\n",
    "import numpy as np  \n",
    "import matplotlib.pyplot as plt "
   ]
  },
  {
   "attachments": {},
   "cell_type": "markdown",
   "metadata": {},
   "source": [
    "# Initialising the Environment "
   ]
  },
  {
   "cell_type": "code",
   "execution_count": 2,
   "metadata": {},
   "outputs": [],
   "source": [
    "env_size = 4\n",
    "env = Grid_World(size = env_size, type= \"fixed\", render_mode= \"rgb_array\")"
   ]
  },
  {
   "cell_type": "code",
   "execution_count": 3,
   "metadata": {},
   "outputs": [
    {
     "data": {
      "text/plain": [
       "<matplotlib.image.AxesImage at 0x144ace88d10>"
      ]
     },
     "execution_count": 3,
     "metadata": {},
     "output_type": "execute_result"
    },
    {
     "data": {
      "image/png": "[encoded data removed]",
      "text/plain": [
       "<Figure size 640x480 with 1 Axes>"
      ]
     },
     "metadata": {},
     "output_type": "display_data"
    }
   ],
   "source": [
    "state, target = env.reset()\n",
    "frame = env.render()\n",
    "plt.axis('off')\n",
    "plt.imshow(frame)"
   ]
  },
  {
   "attachments": {},
   "cell_type": "markdown",
   "metadata": {},
   "source": [
    "# Defining the policy"
   ]
  },
  {
   "cell_type": "code",
   "execution_count": 4,
   "metadata": {},
   "outputs": [
    {
     "name": "stdout",
     "output_type": "stream",
     "text": [
      "[[[0.25 0.25 0.25 0.25]\n",
      "  [0.25 0.25 0.25 0.25]\n",
      "  [0.25 0.25 0.25 0.25]\n",
      "  [0.25 0.25 0.25 0.25]]\n",
      "\n",
      " [[0.25 0.25 0.25 0.25]\n",
      "  [0.25 0.25 0.25 0.25]\n",
      "  [0.25 0.25 0.25 0.25]\n",
      "  [0.25 0.25 0.25 0.25]]\n",
      "\n",
      " [[0.25 0.25 0.25 0.25]\n",
      "  [0.25 0.25 0.25 0.25]\n",
      "  [0.25 0.25 0.25 0.25]\n",
      "  [0.25 0.25 0.25 0.25]]\n",
      "\n",
      " [[0.25 0.25 0.25 0.25]\n",
      "  [0.25 0.25 0.25 0.25]\n",
      "  [0.25 0.25 0.25 0.25]\n",
      "  [0.25 0.25 0.25 0.25]]]\n"
     ]
    }
   ],
   "source": [
    "policy_probablities = np.full((env_size, env_size, 4), 0.25)\n",
    "print(policy_probablities)"
   ]
  },
  {
   "cell_type": "code",
   "execution_count": 5,
   "metadata": {},
   "outputs": [],
   "source": [
    "def policy(state):\n",
    "    policy_probs = policy_probablities[state]\n",
    "    return np.random.choice(4, p = policy_probs)"
   ]
  },
  {
   "attachments": {},
   "cell_type": "markdown",
   "metadata": {},
   "source": [
    "# Value table"
   ]
  },
  {
   "cell_type": "code",
   "execution_count": 6,
   "metadata": {},
   "outputs": [
    {
     "name": "stdout",
     "output_type": "stream",
     "text": [
      "[[0. 0. 0. 0.]\n",
      " [0. 0. 0. 0.]\n",
      " [0. 0. 0. 0.]\n",
      " [0. 0. 0. 0.]]\n"
     ]
    }
   ],
   "source": [
    "state_values = np.zeros(shape = (env_size, env_size))\n",
    "print(state_values)"
   ]
  },
  {
   "attachments": {},
   "cell_type": "markdown",
   "metadata": {},
   "source": [
    "# Implementing the policy iteration algorithm"
   ]
  },
  {
   "cell_type": "code",
   "execution_count": 7,
   "metadata": {},
   "outputs": [],
   "source": [
    "def policy_evaluation(policy_probablities, state_values, theta = 1e-6, gamma= 0.99) ->  None:\n",
    "    delta = float(\"inf\")\n",
    "\n",
    "    while delta > theta: \n",
    "        delta = 0\n",
    "        for row in range(env_size):\n",
    "            for col in range(env_size):\n",
    "                state = (row,col)\n",
    "                old_value = state_values[state]\n",
    "                new_value = 0.\n",
    "                action_probablities = policy_probablities[state]\n",
    "\n",
    "                for action, prob in enumerate(action_probablities):\n",
    "                    next_state, reward, _, _ = env.simulate_step(state, action)\n",
    "                    new_value += prob * (reward + gamma * state_values[next_state])\n",
    "\n",
    "                state_values[state] = new_value\n",
    "                delta = max(delta, abs(old_value - new_value))"
   ]
  },
  {
   "cell_type": "code",
   "execution_count": 8,
   "metadata": {},
   "outputs": [],
   "source": [
    "def policy_improvement(policy_probablities, state_values, gamma = 0.99):\n",
    "    policy_stable = True\n",
    "\n",
    "    for row in range(env_size): \n",
    "        for col in range(env_size):\n",
    "            state = (row, col)\n",
    "            old_action = policy_probablities[state].argmax()\n",
    "\n",
    "            new_action = None\n",
    "            max_qsa = float(\"-inf\")\n",
    "\n",
    "            for action in range(4):\n",
    "                next_state, reward, _, _ = env.simulate_step(state, action)\n",
    "                qsa = reward + gamma * state_values[next_state]\n",
    "\n",
    "                if qsa > max_qsa: \n",
    "                    new_action = action\n",
    "                    max_qsa = qsa\n",
    "\n",
    "        action_probs = np.zeros(4)\n",
    "        action_probs[new_action] = 1.\n",
    "        policy_probablities[state[0], state[1]] = action_probs\n",
    "\n",
    "        if new_action != old_action:\n",
    "            policy_stable = False\n",
    "\n",
    "    return policy_stable"
   ]
  },
  {
   "cell_type": "code",
   "execution_count": 9,
   "metadata": {},
   "outputs": [],
   "source": [
    "def policy_iteration(policy_probablities, state_values, theta = 1e-6, gamma = 0.99):\n",
    "    policy_stable = False\n",
    "\n",
    "    while not policy_stable:\n",
    "        policy_evaluation(policy_probablities, state_values, theta, gamma)\n",
    "        policy_stable = policy_improvement(policy_probablities, state_values, gamma)"
   ]
  },
  {
   "cell_type": "code",
   "execution_count": 10,
   "metadata": {},
   "outputs": [
    {
     "ename": "ValueError",
     "evalue": "setting an array element with a sequence.",
     "output_type": "error",
     "traceback": [
      "\u001b[1;31m---------------------------------------------------------------------------\u001b[0m",
      "\u001b[1;31mTypeError\u001b[0m                                 Traceback (most recent call last)",
      "\u001b[1;31mTypeError\u001b[0m: only size-1 arrays can be converted to Python scalars",
      "\nThe above exception was the direct cause of the following exception:\n",
      "\u001b[1;31mValueError\u001b[0m                                Traceback (most recent call last)",
      "Cell \u001b[1;32mIn[10], line 1\u001b[0m\n\u001b[1;32m----> 1\u001b[0m policy_iteration(policy_probablities, state_values)\n",
      "Cell \u001b[1;32mIn[9], line 5\u001b[0m, in \u001b[0;36mpolicy_iteration\u001b[1;34m(policy_probablities, state_values, theta, gamma)\u001b[0m\n\u001b[0;32m      2\u001b[0m policy_stable \u001b[39m=\u001b[39m \u001b[39mFalse\u001b[39;00m\n\u001b[0;32m      4\u001b[0m \u001b[39mwhile\u001b[39;00m \u001b[39mnot\u001b[39;00m policy_stable:\n\u001b[1;32m----> 5\u001b[0m     policy_evaluation(policy_probablities, state_values, theta, gamma)\n\u001b[0;32m      6\u001b[0m     policy_stable \u001b[39m=\u001b[39m policy_improvement(policy_probablities, state_values, gamma)\n",
      "Cell \u001b[1;32mIn[7], line 17\u001b[0m, in \u001b[0;36mpolicy_evaluation\u001b[1;34m(policy_probablities, state_values, theta, gamma)\u001b[0m\n\u001b[0;32m     14\u001b[0m     next_state, reward, _, _ \u001b[39m=\u001b[39m env\u001b[39m.\u001b[39msimulate_step(state, action)\n\u001b[0;32m     15\u001b[0m     new_value \u001b[39m+\u001b[39m\u001b[39m=\u001b[39m prob \u001b[39m*\u001b[39m (reward \u001b[39m+\u001b[39m gamma \u001b[39m*\u001b[39m state_values[next_state])\n\u001b[1;32m---> 17\u001b[0m state_values[state] \u001b[39m=\u001b[39m new_value\n\u001b[0;32m     18\u001b[0m delta \u001b[39m=\u001b[39m \u001b[39mmax\u001b[39m(delta, \u001b[39mabs\u001b[39m(old_value \u001b[39m-\u001b[39m new_value))\n",
      "\u001b[1;31mValueError\u001b[0m: setting an array element with a sequence."
     ]
    }
   ],
   "source": [
    "policy_iteration(policy_probablities, state_values)"
   ]
  },
  {
   "cell_type": "code",
   "execution_count": null,
   "metadata": {},
   "outputs": [],
   "source": []
  }
 ],
 "metadata": {
  "kernelspec": {
   "display_name": ".venv",
   "language": "python",
   "name": "python3"
  },
  "language_info": {
   "codemirror_mode": {
    "name": "ipython",
    "version": 3
   },
   "file_extension": ".py",
   "mimetype": "text/x-python",
   "name": "python",
   "nbconvert_exporter": "python",
   "pygments_lexer": "ipython3",
   "version": "3.11.2"
  },
  "orig_nbformat": 4
 },
 "nbformat": 4,
 "nbformat_minor": 2
}
