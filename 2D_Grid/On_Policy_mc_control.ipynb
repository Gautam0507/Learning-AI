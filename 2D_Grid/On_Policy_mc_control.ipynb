{
 "cells": [
  {
   "attachments": {},
   "cell_type": "markdown",
   "metadata": {},
   "source": [
    "# On Policy Monte-Carlo control"
   ]
  },
  {
   "attachments": {},
   "cell_type": "markdown",
   "metadata": {},
   "source": [
    "# Importing all the libraries"
   ]
  },
  {
   "cell_type": "code",
   "execution_count": null,
   "metadata": {},
   "outputs": [],
   "source": [
    "from env import Grid_World\n",
    "import matplotlib.pyplot as plt \n",
    "import numpy as np\n",
    "import random\n",
    "from statistics import mean\n",
    "import time\n",
    "from IPython.display import clear_output\n",
    "from IPython import display\n"
   ]
  },
  {
   "attachments": {},
   "cell_type": "markdown",
   "metadata": {},
   "source": [
    "# Creating the environment "
   ]
  },
  {
   "cell_type": "code",
   "execution_count": null,
   "metadata": {},
   "outputs": [],
   "source": [
    "envsize = 4\n",
    "Render_mode = \"rgb_array\"\n",
    "env = Grid_World(size= envsize, type=\"fixed\", render_mode=Render_mode)"
   ]
  },
  {
   "cell_type": "code",
   "execution_count": null,
   "metadata": {},
   "outputs": [],
   "source": [
    "agent,target = env.reset()\n",
    "if env.render_mode == \"rgb_array\":\n",
    "    frame = env.render()\n",
    "    plt.imshow(frame)\n",
    "    plt.axis = ('off')\n",
    "    display.display(plt.gcf())\n",
    "elif env.render_mode == \"human\":\n",
    "    env.py_init()\n",
    "    env.render()\n",
    "    time.sleep(5)\n",
    "    env.close()\n",
    "    "
   ]
  },
  {
   "attachments": {},
   "cell_type": "markdown",
   "metadata": {},
   "source": [
    "# Creating the Q(s|a) value table"
   ]
  },
  {
   "cell_type": "code",
   "execution_count": null,
   "metadata": {},
   "outputs": [],
   "source": [
    "action_values = np.random.rand(envsize, envsize, 4)"
   ]
  },
  {
   "attachments": {},
   "cell_type": "markdown",
   "metadata": {},
   "source": [
    "### Testing the value with state (0,0)"
   ]
  },
  {
   "cell_type": "code",
   "execution_count": null,
   "metadata": {},
   "outputs": [],
   "source": [
    "ap = action_values[0,0]\n",
    "np.argmax(ap)"
   ]
  },
  {
   "attachments": {},
   "cell_type": "markdown",
   "metadata": {},
   "source": [
    "# Defining the policy"
   ]
  },
  {
   "cell_type": "code",
   "execution_count": null,
   "metadata": {},
   "outputs": [],
   "source": [
    "def policy(state, epsilon = 0.1):\n",
    "    action_probablities =  action_values[state[0], state[1]]\n",
    "    if random.uniform(0,1) < epsilon:\n",
    "        # Choosing a random action \n",
    "        action = np.random.choice(4)\n",
    "    else:\n",
    "        # Choosing action according to the q-values\n",
    "        action = np.argmax(action_probablities) \n",
    "    return action\n"
   ]
  },
  {
   "attachments": {},
   "cell_type": "markdown",
   "metadata": {},
   "source": [
    "### Testing the policy with position (0,0)"
   ]
  },
  {
   "cell_type": "code",
   "execution_count": null,
   "metadata": {},
   "outputs": [],
   "source": [
    "action_values[0,0]"
   ]
  },
  {
   "attachments": {},
   "cell_type": "markdown",
   "metadata": {},
   "source": [
    "# Implementing the algorithm"
   ]
  },
  {
   "cell_type": "code",
   "execution_count": null,
   "metadata": {},
   "outputs": [],
   "source": [
    "env.render_mode = \"rgb_array\""
   ]
  },
  {
   "cell_type": "code",
   "execution_count": null,
   "metadata": {},
   "outputs": [],
   "source": [
    "def on_policy_mc_control(policy: callable, action_values, episodes: int = 100, gamma: int = 0.9, epsilon: int = 0.1) -> None:\n",
    "    \n",
    "    sa_returns = np.empty(shape=(envsize, envsize, 4), dtype= object)\n",
    "\n",
    "    for episode in range(0, episodes + 1):\n",
    "        trajectory = []\n",
    "        state, _ = env.reset()\n",
    "        done = False\n",
    "        while not done:\n",
    "            action = policy(state, epsilon)\n",
    "            next_state, reward, done, _ = env.step(action)\n",
    "            trajectory.append([state, action, reward])\n",
    "            state = next_state\n",
    "\n",
    "        G = 0\n",
    "\n",
    "        for state_t, action_t, reward_t in reversed(trajectory):\n",
    "            G = reward_t + gamma * G\n",
    "            if sa_returns[state_t[0],state_t[1], action_t] == None: \n",
    "                sa_returns[state_t[0], state_t[1] ,action_t] = [G]\n",
    "            else:\n",
    "                sa_returns[state_t[0],state_t[1], action_t].append(G)\n",
    "            action_values[state_t[0], state_t[1], action_t] = mean(sa_returns[state_t[0], state_t[1], action_t])\n"
   ]
  },
  {
   "cell_type": "code",
   "execution_count": null,
   "metadata": {},
   "outputs": [],
   "source": [
    "on_policy_mc_control(policy, action_values)"
   ]
  },
  {
   "cell_type": "code",
   "execution_count": null,
   "metadata": {},
   "outputs": [],
   "source": [
    "print(action_values)"
   ]
  },
  {
   "cell_type": "code",
   "execution_count": null,
   "metadata": {},
   "outputs": [],
   "source": [
    "def test_agent(policy, episodes = 1, epsilon = 0.1):\n",
    "    env.render_mode = Render_mode\n",
    "    if env.render_mode == \"human\":\n",
    "        env.py_init()\n",
    "    \n",
    "    for episode in range(0,episodes):\n",
    "        state, _= env.reset()\n",
    "        done = False\n",
    "        while not done: \n",
    "            action = policy(state, epsilon)\n",
    "            state, _, done, _ = env.step(action)\n",
    "            frame = env.render()\n",
    "            if env.render_mode == \"rgb_array\":\n",
    "                plt.imshow(frame)\n",
    "                plt.axis = ('off')\n",
    "                display.display(plt.gcf())\n",
    "                display.clear_output(wait = True)\n",
    "    if env.render_mode == \"human\":\n",
    "        env.close()\n"
   ]
  },
  {
   "cell_type": "code",
   "execution_count": null,
   "metadata": {},
   "outputs": [],
   "source": [
    "test_agent(policy, episodes= 5)"
   ]
  }
 ],
 "metadata": {
  "kernelspec": {
   "display_name": "rlenv",
   "language": "python",
   "name": "python3"
  },
  "language_info": {
   "codemirror_mode": {
    "name": "ipython",
    "version": 3
   },
   "file_extension": ".py",
   "mimetype": "text/x-python",
   "name": "python",
   "nbconvert_exporter": "python",
   "pygments_lexer": "ipython3",
   "version": "3.9.13"
  },
  "orig_nbformat": 4
 },
 "nbformat": 4,
 "nbformat_minor": 2
}
