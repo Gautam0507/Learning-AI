{
 "cells": [
  {
   "attachments": {},
   "cell_type": "markdown",
   "metadata": {},
   "source": [
    "## Creating the Environment"
   ]
  },
  {
   "cell_type": "code",
   "execution_count": null,
   "metadata": {},
   "outputs": [],
   "source": [
    "from env import SimpleCorridor\n",
    "import gymnasium as gym\n",
    "import pygame\n",
    "import numpy as np\n",
    "from IPython.display import clear_output\n",
    "from IPython import display\n",
    "import matplotlib.pylab as plt"
   ]
  },
  {
   "attachments": {},
   "cell_type": "markdown",
   "metadata": {},
   "source": [
    "# Initialize the env "
   ]
  },
  {
   "cell_type": "code",
   "execution_count": null,
   "metadata": {},
   "outputs": [],
   "source": [
    "env = SimpleCorridor()"
   ]
  },
  {
   "cell_type": "code",
   "execution_count": null,
   "metadata": {},
   "outputs": [],
   "source": [
    "env.reset()\n",
    "env.render()"
   ]
  },
  {
   "attachments": {},
   "cell_type": "markdown",
   "metadata": {},
   "source": [
    "## Defining the policy"
   ]
  },
  {
   "cell_type": "code",
   "execution_count": null,
   "metadata": {},
   "outputs": [],
   "source": [
    "policy_probs = np.full((15,2),0.5)\n",
    "print(policy_probs)"
   ]
  },
  {
   "cell_type": "code",
   "execution_count": null,
   "metadata": {},
   "outputs": [],
   "source": [
    "def policy(cur_pos):\n",
    "    return policy_probs[cur_pos]\n"
   ]
  },
  {
   "attachments": {},
   "cell_type": "markdown",
   "metadata": {},
   "source": [
    "### Testing the policy with state (0)"
   ]
  },
  {
   "cell_type": "code",
   "execution_count": null,
   "metadata": {},
   "outputs": [],
   "source": [
    "action_probablities = policy(0)\n",
    "for action, prob in zip(range(2), action_probablities):\n",
    "    print(f\"Probablity of taking action {action}: {prob}\")"
   ]
  },
  {
   "attachments": {},
   "cell_type": "markdown",
   "metadata": {},
   "source": [
    "## The test agent function"
   ]
  },
  {
   "cell_type": "code",
   "execution_count": null,
   "metadata": {},
   "outputs": [],
   "source": [
    "def test_agent(env: gym.Env, policy: callable, episodes: int = 10) -> None: \n",
    "    for episode in range(episodes):\n",
    "        temp = env.reset()\n",
    "        tagent_pos = temp[0]\n",
    "        ttarget_pos = temp[1]\n",
    "        done = False  \n",
    "       \n",
    "        env.render(mode=\"rgb_array\")\n",
    "        while not done:\n",
    "            p = policy(tagent_pos)\n",
    "            action = np.random.choice(2,p=p)\n",
    "\n",
    "            next_state, _, done, _ = env.step(action)\n",
    "            env.render()\n",
    "            plt.axis('off')\n",
    "            display.display(plt.gcf())\n",
    "            display.clear_output(wait=True)\n",
    "            \n",
    "            \n",
    "            tagent_pos = next_state[0]"
   ]
  },
  {
   "attachments": {},
   "cell_type": "markdown",
   "metadata": {},
   "source": [
    "# Defining the value table"
   ]
  },
  {
   "cell_type": "code",
   "execution_count": null,
   "metadata": {},
   "outputs": [],
   "source": [
    "state_values = np.zeros(15)"
   ]
  },
  {
   "cell_type": "code",
   "execution_count": null,
   "metadata": {},
   "outputs": [],
   "source": [
    "print(state_values)"
   ]
  },
  {
   "attachments": {},
   "cell_type": "markdown",
   "metadata": {},
   "source": [
    "# Testing the agent with the random policy"
   ]
  },
  {
   "cell_type": "code",
   "execution_count": null,
   "metadata": {},
   "outputs": [],
   "source": [
    "#test_agent(env, policy)"
   ]
  },
  {
   "attachments": {},
   "cell_type": "markdown",
   "metadata": {},
   "source": [
    "## Implementing the Value iteration Algoritm"
   ]
  },
  {
   "cell_type": "code",
   "execution_count": null,
   "metadata": {},
   "outputs": [],
   "source": [
    "def value_iteration(policy_probs, state_values, theta = 1e-6, gamma = 0.99):\n",
    "    delta = float(\"inf\")\n",
    "\n",
    "    while delta > theta: \n",
    "        delta = 0\n",
    "\n",
    "        for pos in range(15):\n",
    "            old_value = state_values[pos]\n",
    "            action_probs = None\n",
    "            max_qsa = float(\"-inf\")\n",
    "\n",
    "            for action in range(2):\n",
    "                next_state, reward, _,_ = env.simulate_step(pos, action)\n",
    "                qsa = reward + gamma * state_values[next_state]\n",
    "            \n",
    "                if qsa > max_qsa:\n",
    "                    max_qsa = qsa\n",
    "                    action_probs = np.zeros(2)\n",
    "                    action_probs[action] = 1\n",
    "\n",
    "            state_values[pos] = max_qsa\n",
    "            policy_probs[pos] = action_probs\n",
    "            delta = max(delta, abs(max_qsa - old_value))"
   ]
  },
  {
   "cell_type": "code",
   "execution_count": null,
   "metadata": {},
   "outputs": [],
   "source": [
    "value_iteration(policy_probs, state_values)"
   ]
  },
  {
   "cell_type": "code",
   "execution_count": null,
   "metadata": {},
   "outputs": [],
   "source": [
    "print(state_values)"
   ]
  },
  {
   "cell_type": "code",
   "execution_count": null,
   "metadata": {},
   "outputs": [],
   "source": [
    "print(policy_probs)"
   ]
  },
  {
   "cell_type": "code",
   "execution_count": null,
   "metadata": {},
   "outputs": [],
   "source": [
    "test_agent(env, policy)"
   ]
  }
 ],
 "metadata": {
  "kernelspec": {
   "display_name": "rlenv",
   "language": "python",
   "name": "python3"
  },
  "language_info": {
   "codemirror_mode": {
    "name": "ipython",
    "version": 3
   },
   "file_extension": ".py",
   "mimetype": "text/x-python",
   "name": "python",
   "nbconvert_exporter": "python",
   "pygments_lexer": "ipython3",
   "version": "3.9.13"
  },
  "orig_nbformat": 4
 },
 "nbformat": 4,
 "nbformat_minor": 2
}
