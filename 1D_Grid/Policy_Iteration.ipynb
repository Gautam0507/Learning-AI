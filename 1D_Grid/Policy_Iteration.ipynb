{
 "cells": [
  {
   "cell_type": "markdown",
   "metadata": {},
   "source": [
    "# Importing the libraries"
   ]
  },
  {
   "cell_type": "code",
   "execution_count": null,
   "metadata": {},
   "outputs": [],
   "source": [
    "from env import SimpleGridWorld\n",
    "\n",
    "import numpy as np"
   ]
  },
  {
   "cell_type": "markdown",
   "metadata": {},
   "source": [
    "# Initialising the environment"
   ]
  },
  {
   "cell_type": "code",
   "execution_count": null,
   "metadata": {},
   "outputs": [],
   "source": [
    "envSize = 15\n",
    "env = SimpleGridWorld(size= envSize, start=0, end=14)"
   ]
  },
  {
   "cell_type": "code",
   "execution_count": null,
   "metadata": {},
   "outputs": [],
   "source": [
    "env.reset()\n",
    "env.render()"
   ]
  },
  {
   "cell_type": "markdown",
   "metadata": {},
   "source": [
    "# Creating the Policy"
   ]
  },
  {
   "cell_type": "code",
   "execution_count": null,
   "metadata": {},
   "outputs": [],
   "source": [
    "policy_probablities = np.full((envSize,2), 0.5)"
   ]
  },
  {
   "cell_type": "code",
   "execution_count": null,
   "metadata": {},
   "outputs": [],
   "source": [
    "def policy(state):\n",
    "    return np.random.choice(2, p = policy_probablities[state])"
   ]
  },
  {
   "cell_type": "markdown",
   "metadata": {},
   "source": [
    "# Value Table"
   ]
  },
  {
   "cell_type": "code",
   "execution_count": null,
   "metadata": {},
   "outputs": [],
   "source": [
    "state_values = np.zeros(shape= envSize)"
   ]
  },
  {
   "cell_type": "markdown",
   "metadata": {},
   "source": [
    "# Implementing the policy iteration algorithm"
   ]
  },
  {
   "cell_type": "code",
   "execution_count": null,
   "metadata": {},
   "outputs": [],
   "source": [
    "def policy_evaluation(policy_probablities, state_values, theta = 1e-6, gamma = 0.99):\n",
    "    delta = float(\"inf\")\n",
    "\n",
    "    while delta > theta:\n",
    "        delta = 0\n",
    "        for state in range(envSize):\n",
    "            old_value = state_values[state]\n",
    "            new_value = 0.\n",
    "            action_probablities = policy_probablities[state]\n",
    "\n",
    "            for action, prob in enumerate(action_probablities):\n",
    "                next_state, reward, _ = env.simulate_step(state,action)\n",
    "                new_value += prob * (reward + gamma * state_values[next_state])\n",
    "\n",
    "            state_values[state] = new_value\n",
    "            delta = max(delta, abs(old_value - new_value))"
   ]
  },
  {
   "cell_type": "code",
   "execution_count": null,
   "metadata": {},
   "outputs": [],
   "source": [
    "def policy_improvement(policy_probablities, state_values, gamma = 0.99):\n",
    "    policy_stable = True\n",
    "\n",
    "    for state in range(envSize):\n",
    "        old_action = policy_probablities[state].argmax()\n",
    "        new_action = None\n",
    "        max_qsa = float(\"-inf\")\n",
    "\n",
    "        for action in range(2):\n",
    "            next_state, reward, _  = env.simulate_step(state, action)\n",
    "            qsa = reward + gamma * state_values[next_state]\n",
    "            \n",
    "            if qsa > max_qsa:\n",
    "                new_action = action\n",
    "                max_qsa = qsa\n",
    "\n",
    "        action_probs = np.zeros(2)\n",
    "        action_probs[new_action] = 1.\n",
    "        policy_probablities[state] = action_probs\n",
    "\n",
    "        if new_action != old_action:\n",
    "            policy_stable = False\n",
    "        \n",
    "    return policy_stable"
   ]
  },
  {
   "cell_type": "code",
   "execution_count": null,
   "metadata": {},
   "outputs": [],
   "source": [
    "def policy_iteration(policy_probablities, state_values, theta = 1e-6, gamma = 0.99):\n",
    "    policy_stable = False\n",
    "\n",
    "    while not policy_stable:\n",
    "        policy_evaluation(policy_probablities, state_values, theta, gamma)\n",
    "        policy_stable = policy_improvement(policy_probablities, state_values, gamma)"
   ]
  },
  {
   "cell_type": "code",
   "execution_count": null,
   "metadata": {},
   "outputs": [],
   "source": [
    "policy_iteration(policy_probablities, state_values)"
   ]
  },
  {
   "cell_type": "markdown",
   "metadata": {},
   "source": [
    "# Testing the algorithm"
   ]
  },
  {
   "cell_type": "code",
   "execution_count": null,
   "metadata": {},
   "outputs": [],
   "source": [
    "env.test_agent(policy, episodes=3)"
   ]
  }
 ],
 "metadata": {
  "kernelspec": {
   "display_name": ".venv",
   "language": "python",
   "name": "python3"
  },
  "language_info": {
   "codemirror_mode": {
    "name": "ipython",
    "version": 3
   },
   "file_extension": ".py",
   "mimetype": "text/x-python",
   "name": "python",
   "nbconvert_exporter": "python",
   "pygments_lexer": "ipython3",
   "version": "3.11.2"
  },
  "orig_nbformat": 4
 },
 "nbformat": 4,
 "nbformat_minor": 2
}
