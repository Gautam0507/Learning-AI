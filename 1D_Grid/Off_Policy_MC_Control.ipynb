{
 "cells": [
  {
   "cell_type": "markdown",
   "metadata": {},
   "source": [
    "# Importing the libraries"
   ]
  },
  {
   "cell_type": "code",
   "execution_count": null,
   "metadata": {},
   "outputs": [],
   "source": [
    "from env import SimpleGridWorld\n",
    "\n",
    "import numpy as np"
   ]
  },
  {
   "cell_type": "markdown",
   "metadata": {},
   "source": [
    "# Initialising the Environment"
   ]
  },
  {
   "cell_type": "code",
   "execution_count": null,
   "metadata": {},
   "outputs": [],
   "source": [
    "envSize = 15\n",
    "env = SimpleGridWorld(size=envSize, start=0, end = envSize -1)"
   ]
  },
  {
   "cell_type": "code",
   "execution_count": null,
   "metadata": {},
   "outputs": [],
   "source": [
    "state, target = env.reset()\n",
    "env.render()"
   ]
  },
  {
   "cell_type": "markdown",
   "metadata": {},
   "source": [
    "# Define the Q-value table"
   ]
  },
  {
   "cell_type": "code",
   "execution_count": null,
   "metadata": {},
   "outputs": [],
   "source": [
    "action_values = np.full(shape=(envSize,2),fill_value=-100)\n",
    "action_values[target,:] = 0."
   ]
  },
  {
   "cell_type": "markdown",
   "metadata": {},
   "source": [
    "# Define the target policy"
   ]
  },
  {
   "cell_type": "code",
   "execution_count": null,
   "metadata": {},
   "outputs": [],
   "source": [
    "def target_policy(state):\n",
    "    av = action_values[state]\n",
    "    return np.random.choice(np.flatnonzero(av == av.max()))"
   ]
  },
  {
   "cell_type": "markdown",
   "metadata": {},
   "source": [
    "# Define the explaratory policy"
   ]
  },
  {
   "cell_type": "code",
   "execution_count": null,
   "metadata": {},
   "outputs": [],
   "source": [
    "def explaratory_policy(state, epsilon = 0.2):\n",
    "    if np.random.random() < epsilon:\n",
    "        return env.action_space.sample()\n",
    "    else: \n",
    "        av = action_values[state]\n",
    "        return np.random.choice(np.flatnonzero(av == av.max()))"
   ]
  },
  {
   "cell_type": "markdown",
   "metadata": {},
   "source": [
    "# Implement the algorithm"
   ]
  },
  {
   "cell_type": "code",
   "execution_count": null,
   "metadata": {},
   "outputs": [],
   "source": [
    "def off_policy_mc_control(acton_values, target_policy, explaratory_policy, episodes = 10000, gamma = 0.99, epsilon = 0.2):\n",
    "    csa = np.zeros((envSize, 2))\n",
    "\n",
    "    for episode in range(1, episodes + 1):\n",
    "        G, W = 0,1\n",
    "        state, target = env.reset()\n",
    "        done = False\n",
    "        transitions = []\n",
    "\n",
    "        while not done:\n",
    "            action = explaratory_policy(state, epsilon)\n",
    "            next_state, reward, done = env.step(action)\n",
    "            transitions.append([state, action, reward])\n",
    "            state = next_state\n",
    "\n",
    "        for state_t, action_t, reward_t in reversed(transitions):\n",
    "            G = reward_t + gamma * G\n",
    "            csa[state_t][action_t] += W\n",
    "            qsa = action_values[state_t][action_t]\n",
    "            action_values[state_t][action_t] += (W / csa[state_t][action_t])*(G - qsa)\n",
    "\n",
    "            if action_t != target_policy(state_t):\n",
    "                break\n",
    "\n",
    "            W = W * 1/ (1-epsilon + epsilon / 4)\n",
    "        \n",
    "        print(episode)"
   ]
  },
  {
   "cell_type": "code",
   "execution_count": null,
   "metadata": {},
   "outputs": [],
   "source": [
    "off_policy_mc_control(action_values, target_policy, explaratory_policy)"
   ]
  },
  {
   "cell_type": "markdown",
   "metadata": {},
   "source": [
    "# Testing the algorithm"
   ]
  },
  {
   "cell_type": "code",
   "execution_count": null,
   "metadata": {},
   "outputs": [],
   "source": [
    "env.test_agent(target_policy, 3)"
   ]
  }
 ],
 "metadata": {
  "kernelspec": {
   "display_name": ".venv",
   "language": "python",
   "name": "python3"
  },
  "language_info": {
   "codemirror_mode": {
    "name": "ipython",
    "version": 3
   },
   "file_extension": ".py",
   "mimetype": "text/x-python",
   "name": "python",
   "nbconvert_exporter": "python",
   "pygments_lexer": "ipython3",
   "version": "3.11.2"
  },
  "orig_nbformat": 4
 },
 "nbformat": 4,
 "nbformat_minor": 2
}
