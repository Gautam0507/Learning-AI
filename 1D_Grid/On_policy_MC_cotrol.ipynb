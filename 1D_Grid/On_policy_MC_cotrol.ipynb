{
 "cells": [
  {
   "attachments": {},
   "cell_type": "markdown",
   "metadata": {},
   "source": [
    "## Creating the environement"
   ]
  },
  {
   "cell_type": "code",
   "execution_count": null,
   "metadata": {},
   "outputs": [],
   "source": [
    "import gymnasium as gym\n",
    "import pygame\n",
    "import numpy as np\n",
    "from IPython.display import clear_output\n",
    "from IPython import display\n",
    "import matplotlib.pylab as plt\n",
    "import statistics\n",
    "from env import SimpleCorridor"
   ]
  },
  {
   "attachments": {},
   "cell_type": "markdown",
   "metadata": {},
   "source": [
    "## Test Agent Function "
   ]
  },
  {
   "cell_type": "code",
   "execution_count": null,
   "metadata": {},
   "outputs": [],
   "source": [
    "def test_agent(env: gym.Env, policy: callable, episodes: int = 10) -> None: \n",
    "    for episode in range(episodes):\n",
    "        temp = env.reset()\n",
    "        tagent_pos = temp[0]\n",
    "        ttarget_pos = temp[1]\n",
    "        done = False  \n",
    "       \n",
    "        env.render(mode=\"rgb_array\")\n",
    "        while not done:\n",
    "            action = policy(tagent_pos, 0.1) \n",
    "\n",
    "            next_state, _, done, _ = env.step(action)\n",
    "            env.render()\n",
    "            plt.axis('off')\n",
    "            display.display(plt.gcf())\n",
    "            display.clear_output(wait=True)\n",
    "            \n",
    "            \n",
    "            tagent_pos = next_state[0]"
   ]
  },
  {
   "attachments": {},
   "cell_type": "markdown",
   "metadata": {},
   "source": [
    "## Initialising the environment "
   ]
  },
  {
   "cell_type": "code",
   "execution_count": null,
   "metadata": {},
   "outputs": [],
   "source": [
    "env = SimpleCorridor()\n",
    "env.reset()\n",
    "env.render()\n"
   ]
  },
  {
   "attachments": {},
   "cell_type": "markdown",
   "metadata": {},
   "source": [
    "## Q Value Table"
   ]
  },
  {
   "cell_type": "code",
   "execution_count": null,
   "metadata": {},
   "outputs": [],
   "source": [
    "action_values = np.zeros(shape=(15,2))\n",
    "print(action_values)"
   ]
  },
  {
   "attachments": {},
   "cell_type": "markdown",
   "metadata": {},
   "source": [
    "### Creating the Policy"
   ]
  },
  {
   "cell_type": "code",
   "execution_count": null,
   "metadata": {},
   "outputs": [],
   "source": [
    "def policy(state, epsilon = 0.1):\n",
    "    if np.random.random() < epsilon:\n",
    "        return np.random.choice(2)\n",
    "    else: \n",
    "        av = action_values[state]\n",
    "        return np.random.choice(np.flatnonzero(av == av.max()))"
   ]
  },
  {
   "cell_type": "code",
   "execution_count": null,
   "metadata": {},
   "outputs": [],
   "source": [
    "action = policy(0, epsilon = 0.5)\n",
    "print(f\"The action taken in state 0 is {action}\")"
   ]
  },
  {
   "attachments": {},
   "cell_type": "markdown",
   "metadata": {},
   "source": [
    "#### Testing the policy"
   ]
  },
  {
   "attachments": {},
   "cell_type": "markdown",
   "metadata": {},
   "source": [
    "# Implementing the algorithm"
   ]
  },
  {
   "cell_type": "code",
   "execution_count": null,
   "metadata": {},
   "outputs": [],
   "source": [
    "def on_policy_mc_control(policy, action_values, episodes=1000, epsilon=0.1, gamma=0.99):\n",
    "    sa_returns = np.empty((15, 2), dtype=object)\n",
    "\n",
    "    for episode in range(0, episodes + 1):\n",
    "        state, target = env.reset()\n",
    "        done = False\n",
    "        transitions = []\n",
    "\n",
    "        while not done:\n",
    "            action = policy(state, epsilon)\n",
    "            (next_state, target), reward, done, info = env.step(action)\n",
    "            transitions.append([state, action, reward])\n",
    "            state = next_state\n",
    "\n",
    "        G = 0\n",
    "\n",
    "        for state_t, action_t, reward_t in reversed(transitions):\n",
    "            G = reward_t + gamma * G\n",
    "            if sa_returns[state_t, action_t] == None:\n",
    "                sa_returns[state_t, action_t] = [G]\n",
    "            else:\n",
    "                sa_returns[state_t, action_t].append(G)\n",
    "            action_values[state_t, action_t] = statistics.mean(\n",
    "                sa_returns[state_t, action_t])\n"
   ]
  },
  {
   "cell_type": "code",
   "execution_count": null,
   "metadata": {},
   "outputs": [],
   "source": [
    "on_policy_mc_control(policy, action_values)"
   ]
  },
  {
   "cell_type": "code",
   "execution_count": null,
   "metadata": {},
   "outputs": [],
   "source": [
    "test_agent(env, policy, episodes=10)"
   ]
  }
 ],
 "metadata": {
  "kernelspec": {
   "display_name": "rlenv",
   "language": "python",
   "name": "python3"
  },
  "language_info": {
   "codemirror_mode": {
    "name": "ipython",
    "version": 3
   },
   "file_extension": ".py",
   "mimetype": "text/x-python",
   "name": "python",
   "nbconvert_exporter": "python",
   "pygments_lexer": "ipython3",
   "version": "3.9.13"
  },
  "orig_nbformat": 4,
  "vscode": {
   "interpreter": {
    "hash": "47b4eb548d7dd0a9bfd7f71688e3b69926797fdf176ccc6df1d3d272164b67a3"
   }
  }
 },
 "nbformat": 4,
 "nbformat_minor": 2
}
