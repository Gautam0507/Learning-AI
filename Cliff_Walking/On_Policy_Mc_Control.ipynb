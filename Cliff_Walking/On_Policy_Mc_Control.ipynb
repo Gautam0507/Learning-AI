{
 "cells": [
  {
   "attachments": {},
   "cell_type": "markdown",
   "metadata": {},
   "source": [
    "# Importing all the files "
   ]
  },
  {
   "cell_type": "code",
   "execution_count": null,
   "metadata": {},
   "outputs": [],
   "source": [
    "import numpy as np \n",
    "import gymnasium as gym \n",
    "import matplotlib.pyplot as plt \n",
    "from statistics import mean\n",
    "from IPython.display import clear_output\n",
    "from IPython import display\n",
    "import random\n",
    "\n",
    "from env import CliffWalking"
   ]
  },
  {
   "attachments": {},
   "cell_type": "markdown",
   "metadata": {},
   "source": [
    "# Creating the Environment"
   ]
  },
  {
   "cell_type": "code",
   "execution_count": null,
   "metadata": {},
   "outputs": [],
   "source": [
    "env = CliffWalking(render_mode=\"human\")\n",
    "env.reset()\n",
    "env.render()"
   ]
  },
  {
   "attachments": {},
   "cell_type": "markdown",
   "metadata": {},
   "source": [
    "# Creating the Q(s|a) value table"
   ]
  },
  {
   "cell_type": "code",
   "execution_count": null,
   "metadata": {},
   "outputs": [],
   "source": [
    "action_values = np.random.rand(48,4)"
   ]
  },
  {
   "attachments": {},
   "cell_type": "markdown",
   "metadata": {},
   "source": [
    "### Testing the value with state (0,0)"
   ]
  },
  {
   "cell_type": "code",
   "execution_count": null,
   "metadata": {},
   "outputs": [],
   "source": [
    "action_values[0]"
   ]
  },
  {
   "attachments": {},
   "cell_type": "markdown",
   "metadata": {},
   "source": [
    "# Defining the policy"
   ]
  },
  {
   "cell_type": "code",
   "execution_count": null,
   "metadata": {},
   "outputs": [],
   "source": [
    "def policy(state, epsilon=0.2):\n",
    "    action_probablities = action_values[state]\n",
    "    if random.uniform(0, 1) < epsilon:\n",
    "        action = env.action_space.sample()\n",
    "    else:\n",
    "        action = np.argmax(action_probablities)\n",
    "    return action\n"
   ]
  },
  {
   "attachments": {},
   "cell_type": "markdown",
   "metadata": {},
   "source": [
    "# Implementing the algorithm"
   ]
  },
  {
   "cell_type": "code",
   "execution_count": null,
   "metadata": {},
   "outputs": [],
   "source": [
    "def on_policy_mc_cotrol(policy: callable, action_values, episodes:  int = 10000, gamma: int = 0.99, epsilon: int = 0.2) -> None:\n",
    "    sa_returns = np.empty(shape=(48, 4), dtype=object)\n",
    "\n",
    "    for episode in range(episodes + 1):\n",
    "        trajectory = []\n",
    "        state = env.reset()\n",
    "        done, terminated = False, False\n",
    "        while not done or terminated:\n",
    "            action = policy(state, epsilon)\n",
    "            next_state, reward, done, terminated = env.step(action)\n",
    "            trajectory.append([state, action, reward])\n",
    "            state = next_state\n",
    "\n",
    "        print(episode)\n",
    "        G = 0\n",
    "\n",
    "        for state_t, action_t, reward_t in reversed(trajectory):\n",
    "            G = reward_t + gamma * G\n",
    "            if sa_returns[state_t, action_t] == None:\n",
    "                sa_returns[state_t, action_t] = [G]\n",
    "            else:\n",
    "                sa_returns[state_t, action_t].append(G)\n",
    "            action_values[state_t, action_t] = mean(\n",
    "                sa_returns[state_t, action_t])"
   ]
  },
  {
   "cell_type": "code",
   "execution_count": null,
   "metadata": {},
   "outputs": [],
   "source": [
    "on_policy_mc_cotrol(policy, action_values, episodes = 1000,epsilon= 0.75)"
   ]
  },
  {
   "cell_type": "code",
   "execution_count": null,
   "metadata": {},
   "outputs": [],
   "source": [
    "print(action_values)"
   ]
  },
  {
   "attachments": {},
   "cell_type": "markdown",
   "metadata": {},
   "source": [
    "# The test agent function"
   ]
  },
  {
   "cell_type": "code",
   "execution_count": null,
   "metadata": {},
   "outputs": [],
   "source": [
    "def test_agent(policy, episodes=1, epsilon=0.2):\n",
    "    for episode in range(episodes):\n",
    "        state = env.reset()\n",
    "        done, terminated = False, False\n",
    "        while not (done or terminated):\n",
    "            action = policy(state, epsilon)\n",
    "            next_state, reward, done, terminated = env.step(action)\n",
    "            frame = env.render()\n",
    "            state = next_state\n",
    "        print(episode+1)"
   ]
  },
  {
   "cell_type": "code",
   "execution_count": null,
   "metadata": {},
   "outputs": [],
   "source": [
    "test_agent(policy, episodes=1)"
   ]
  },
  {
   "cell_type": "code",
   "execution_count": null,
   "metadata": {},
   "outputs": [],
   "source": [
    "env.close()"
   ]
  }
 ],
 "metadata": {
  "kernelspec": {
   "display_name": "rlenv",
   "language": "python",
   "name": "python3"
  },
  "language_info": {
   "codemirror_mode": {
    "name": "ipython",
    "version": 3
   },
   "file_extension": ".py",
   "mimetype": "text/x-python",
   "name": "python",
   "nbconvert_exporter": "python",
   "pygments_lexer": "ipython3",
   "version": "3.11.2"
  },
  "orig_nbformat": 4
 },
 "nbformat": 4,
 "nbformat_minor": 2
}
