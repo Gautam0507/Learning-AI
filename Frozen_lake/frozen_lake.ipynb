{
 "cells": [
  {
   "cell_type": "code",
   "execution_count": 25,
   "metadata": {},
   "outputs": [],
   "source": [
    "import gymnasium as gym \n",
    "import numpy as np \n",
    "from gymnasium import Env, spaces, utils\n",
    "from gymnasium.utils import seeding\n",
    "from typing import List, Optional"
   ]
  },
  {
   "cell_type": "code",
   "execution_count": 28,
   "metadata": {},
   "outputs": [],
   "source": [
    "def is_valid(board: List[List[str]], max_size: int) -> bool:\n",
    "    frontier, discovered = [], set()\n",
    "    frontier.append((0, 0))\n",
    "    while frontier:\n",
    "        r, c = frontier.pop()\n",
    "        if not (r, c) in discovered:\n",
    "            discovered.add((r, c))\n",
    "            directions = [(1, 0), (0, 1), (-1, 0), (0, -1)]\n",
    "            for x, y in directions:\n",
    "                r_new = r + x\n",
    "                c_new = c + y\n",
    "                if r_new < 0 or r_new >= max_size or c_new < 0 or c_new >= max_size:\n",
    "                    continue\n",
    "                if board[r_new][c_new] == \"G\":\n",
    "                    return True\n",
    "                if board[r_new][c_new] != \"H\":\n",
    "                    frontier.append((r_new, c_new))\n",
    "    return False"
   ]
  },
  {
   "cell_type": "code",
   "execution_count": 31,
   "metadata": {},
   "outputs": [],
   "source": [
    "def generate_random_map(size)-> list[str]:\n",
    "    valid = False\n",
    "    board = []\n",
    "\n",
    "\n",
    "    while not valid: \n",
    "        p = 0.8\n",
    "        board = np.random.choice([\"F\",\"H\"], (size), p = [p,1-p])\n",
    "        board[0][0] = \"S\"\n",
    "        board[-1][-1] = \"G\"\n",
    "        valid = is_valid(board, size[0])\n",
    "        print(valid)\n",
    "    return board"
   ]
  },
  {
   "cell_type": "code",
   "execution_count": 43,
   "metadata": {},
   "outputs": [],
   "source": [
    "class FrozenLake(Env):\n",
    "    metadata = {\"render_modes\":[\"human\", \"rgb_array\"],\"render_fps\" : 4,}\n",
    "\n",
    "    def __init__(self, map_size: tuple[int, int] = (4,4), map_type:str= \"Fixed\" ,is_slippery = True):\n",
    "        Map = generate_random_map(map_size)\n",
    "        \n",
    "\n",
    "    def step(self, a):"
   ]
  },
  {
   "attachments": {},
   "cell_type": "markdown",
   "metadata": {},
   "source": [
    "Testing below here "
   ]
  },
  {
   "cell_type": "code",
   "execution_count": 41,
   "metadata": {},
   "outputs": [
    {
     "name": "stdout",
     "output_type": "stream",
     "text": [
      "False\n",
      "True\n"
     ]
    },
    {
     "data": {
      "text/plain": [
       "array([['S', 'F', 'H', 'F'],\n",
       "       ['F', 'F', 'F', 'F'],\n",
       "       ['F', 'F', 'F', 'F'],\n",
       "       ['H', 'F', 'F', 'G']], dtype='<U1')"
      ]
     },
     "execution_count": 41,
     "metadata": {},
     "output_type": "execute_result"
    }
   ],
   "source": [
    "env = FrozenLake"
   ]
  },
  {
   "cell_type": "code",
   "execution_count": null,
   "metadata": {},
   "outputs": [],
   "source": []
  }
 ],
 "metadata": {
  "kernelspec": {
   "display_name": "rlenv",
   "language": "python",
   "name": "python3"
  },
  "language_info": {
   "codemirror_mode": {
    "name": "ipython",
    "version": 3
   },
   "file_extension": ".py",
   "mimetype": "text/x-python",
   "name": "python",
   "nbconvert_exporter": "python",
   "pygments_lexer": "ipython3",
   "version": "3.9.13"
  },
  "orig_nbformat": 4
 },
 "nbformat": 4,
 "nbformat_minor": 2
}
