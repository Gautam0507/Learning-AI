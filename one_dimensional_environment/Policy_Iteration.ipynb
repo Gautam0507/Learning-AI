{
 "cells": [
  {
   "attachments": {},
   "cell_type": "markdown",
   "metadata": {},
   "source": [
    "## Creating the environement"
   ]
  },
  {
   "cell_type": "code",
   "execution_count": 1,
   "metadata": {},
   "outputs": [],
   "source": [
    "import gymnasium as gym\n",
    "import pygame\n",
    "import numpy as np\n",
    "from IPython.display import clear_output\n",
    "from IPython import display\n",
    "import random\n",
    "import matplotlib.pylab as plt\n",
    "import copy\n",
    "import time"
   ]
  },
  {
   "cell_type": "code",
   "execution_count": 2,
   "metadata": {},
   "outputs": [],
   "source": [
    "class SimpleCorridor(gym.Env):\n",
    "    def __init__(self, size=15):\n",
    "        self.length = size\n",
    "        self.start_pos = 0\n",
    "        self.end_pos = self.length - 1\n",
    "        self.action_space = gym.spaces.Discrete(2)\n",
    "        self.observation_space = gym.spaces.Box(\n",
    "            0.0, self.length, shape=(2,), dtype=int)\n",
    "        self.mode = \"rgb_array\"\n",
    "        self.width = 20\n",
    "\n",
    "    def reset(self):\n",
    "        self.current_pos = self.start_pos\n",
    "        return np.array([self.current_pos, self.end_pos])\n",
    "\n",
    "    def step(self, action):\n",
    "        if action == 0 and self.current_pos > 0:\n",
    "            self.current_pos -= 1\n",
    "        if action == 1 and self.current_pos < self.length - 1:\n",
    "            self.current_pos += 1\n",
    "        done = self.current_pos == self.end_pos\n",
    "        reward = 1 if done else -1\n",
    "        info = {}\n",
    "        return np.array([self.current_pos, self.end_pos]), reward, done, info\n",
    "\n",
    "    def simulate_step(self, tpos, action):\n",
    "        if action == 0 and tpos > 0:\n",
    "            tpos -= 1\n",
    "        if action == 1 and tpos < self.length -1:\n",
    "            tpos += 1\n",
    "            \n",
    "        done = tpos == self.end_pos\n",
    "        reward = 1 if done else -1\n",
    "        info = {}\n",
    "        return tpos, reward, done, info\n",
    "        \n",
    "    def render(self, mode=\"rgb_array\"):\n",
    "        canvas = pygame.Surface((self.width, self.width * self.length + 1))\n",
    "        canvas.fill((255,255,255))\n",
    "        for i in range(self.length+1):\n",
    "            pygame.draw.line(canvas, 0, (0, 20*(i)), (20, 20*(i)), width=1)\n",
    "        pygame.draw.line(canvas, 0, (0,0), (0, 20*(i)), width=1)\n",
    "        pygame.draw.line(canvas, 0, (19,0), (19, 20*(i)), width=1)\n",
    "        pygame.draw.circle(canvas, (0, 0, 255), (10,self.current_pos*20+10), 7)\n",
    "        pygame.draw.circle(canvas, (255, 0, 0), (10,(self.end_pos)*20+10), 7)\n",
    "        plArray = np.array(pygame.surfarray.pixels3d(canvas))\n",
    "        plt.imshow(plArray)        \n",
    "        plt.axis(\"off\")\n"
   ]
  },
  {
   "attachments": {},
   "cell_type": "markdown",
   "metadata": {},
   "source": [
    "## Test Agent Function "
   ]
  },
  {
   "cell_type": "code",
   "execution_count": 3,
   "metadata": {},
   "outputs": [],
   "source": [
    "def test_agent(env: gym.Env, policy: callable, episodes: int = 10) -> None: \n",
    "    for episode in range(episodes):\n",
    "        temp = env.reset()\n",
    "        tagent_pos = temp[0]\n",
    "        ttarget_pos = temp[1]\n",
    "        done = False  \n",
    "       \n",
    "        env.render(mode=\"rgb_array\")\n",
    "        while not done:\n",
    "            p = policy(tagent_pos)\n",
    "            action = np.random.choice(2,p=p)\n",
    "\n",
    "            next_state, _, done, _ = env.step(action)\n",
    "            env.render()\n",
    "            plt.axis('off')\n",
    "            display.display(plt.gcf())\n",
    "            display.clear_output(wait=True)\n",
    "            \n",
    "            \n",
    "            tagent_pos = next_state[0]"
   ]
  },
  {
   "attachments": {},
   "cell_type": "markdown",
   "metadata": {},
   "source": [
    "## Initialising the environment "
   ]
  },
  {
   "cell_type": "code",
   "execution_count": 4,
   "metadata": {},
   "outputs": [
    {
     "data": {
      "image/png": "[encoded data removed]",
      "text/plain": [
       "<Figure size 640x480 with 1 Axes>"
      ]
     },
     "metadata": {},
     "output_type": "display_data"
    }
   ],
   "source": [
    "env = SimpleCorridor()\n",
    "env.reset()\n",
    "env.render()\n"
   ]
  },
  {
   "attachments": {},
   "cell_type": "markdown",
   "metadata": {},
   "source": [
    "### Creating the Policy"
   ]
  },
  {
   "cell_type": "code",
   "execution_count": 5,
   "metadata": {},
   "outputs": [
    {
     "name": "stdout",
     "output_type": "stream",
     "text": [
      "[[0.5 0.5]\n",
      " [0.5 0.5]\n",
      " [0.5 0.5]\n",
      " [0.5 0.5]\n",
      " [0.5 0.5]\n",
      " [0.5 0.5]\n",
      " [0.5 0.5]\n",
      " [0.5 0.5]\n",
      " [0.5 0.5]\n",
      " [0.5 0.5]\n",
      " [0.5 0.5]\n",
      " [0.5 0.5]\n",
      " [0.5 0.5]\n",
      " [0.5 0.5]\n",
      " [0.5 0.5]]\n"
     ]
    }
   ],
   "source": [
    "policy_probs = np.full((15,2) ,0.5)\n",
    "print(policy_probs)"
   ]
  },
  {
   "cell_type": "code",
   "execution_count": 6,
   "metadata": {},
   "outputs": [],
   "source": [
    "def policy(state):\n",
    "    return policy_probs[state]"
   ]
  },
  {
   "attachments": {},
   "cell_type": "markdown",
   "metadata": {},
   "source": [
    "## Value Table"
   ]
  },
  {
   "cell_type": "code",
   "execution_count": 7,
   "metadata": {},
   "outputs": [
    {
     "name": "stdout",
     "output_type": "stream",
     "text": [
      "[0. 0. 0. 0. 0. 0. 0. 0. 0. 0. 0. 0. 0. 0. 0.]\n"
     ]
    }
   ],
   "source": [
    "state_values = np.zeros(shape=(15))\n",
    "print(state_values)"
   ]
  },
  {
   "attachments": {},
   "cell_type": "markdown",
   "metadata": {},
   "source": [
    "# Implementing the policy iteration algorithm "
   ]
  },
  {
   "cell_type": "code",
   "execution_count": 8,
   "metadata": {},
   "outputs": [],
   "source": [
    "def policy_evaluation(policy_probs, state_values, theta = 1e-6, gamma = 0.99):\n",
    "    delta = float(\"inf\")\n",
    "\n",
    "    while delta > theta: \n",
    "        delta = 0\n",
    "        for state in range(15):\n",
    "            old_value = state_values[state]\n",
    "            new_value = 0.\n",
    "            action_probablities = policy_probs[state]\n",
    "\n",
    "            for action, prob in enumerate(action_probablities):\n",
    "                next_state, reward, _, _ = env.simulate_step(state, action)\n",
    "                new_value += prob * (reward + gamma * state_values[next_state])\n",
    "\n",
    "            state_values[state] = new_value\n",
    "            delta = max(delta, abs(old_value - new_value))"
   ]
  },
  {
   "cell_type": "code",
   "execution_count": 9,
   "metadata": {},
   "outputs": [],
   "source": [
    "def policy_improvement(policy_probs, state_values, gamma = 0.99):\n",
    "    policy_stable = True\n",
    "\n",
    "    for state in range(15):\n",
    "        old_action = policy_probs[state].argmax()\n",
    "\n",
    "        new_action = None\n",
    "        max_qsa = float(\"-inf\")\n",
    "\n",
    "        for action in range(2):\n",
    "            next_state, reward, _, _ = env.simulate_step(state, action)\n",
    "            qsa = reward + gamma * state_values[next_state]\n",
    "\n",
    "            if qsa > max_qsa: \n",
    "                new_action = action\n",
    "                max_qsa = qsa\n",
    "\n",
    "        action_probs = np.zeros(2)\n",
    "        action_probs[new_action] = 1\n",
    "        policy_probs[state] = action_probs\n",
    "\n",
    "        if new_action != old_action: \n",
    "            policy_stable = False\n",
    "\n",
    "    return policy_stable"
   ]
  },
  {
   "cell_type": "code",
   "execution_count": 10,
   "metadata": {},
   "outputs": [],
   "source": [
    "def policy_iteration(policy_probs, state_values, theta = 1e-6, gamma = 0.99):\n",
    "    policy_stable = False\n",
    "\n",
    "    while not policy_stable: \n",
    "        policy_evaluation(policy_probs, state_values, theta, gamma)\n",
    "        \n",
    "        \n",
    "        policy_stable = policy_improvement(policy_probs, state_values, gamma)"
   ]
  },
  {
   "cell_type": "code",
   "execution_count": 11,
   "metadata": {},
   "outputs": [],
   "source": [
    "policy_iteration(policy_probs, state_values)"
   ]
  },
  {
   "attachments": {},
   "cell_type": "markdown",
   "metadata": {},
   "source": [
    "# Printing the final values"
   ]
  },
  {
   "cell_type": "code",
   "execution_count": 12,
   "metadata": {},
   "outputs": [
    {
     "name": "stdout",
     "output_type": "stream",
     "text": [
      "[75.5041056  77.27687534 79.06755185 80.876316   82.7033505  84.54883989\n",
      " 86.41297058 88.29593088 90.19791098 92.119103   94.059701   96.019901\n",
      " 97.999901   99.999901   99.999901  ]\n",
      "[[0. 1.]\n",
      " [0. 1.]\n",
      " [0. 1.]\n",
      " [0. 1.]\n",
      " [0. 1.]\n",
      " [0. 1.]\n",
      " [0. 1.]\n",
      " [0. 1.]\n",
      " [0. 1.]\n",
      " [0. 1.]\n",
      " [0. 1.]\n",
      " [0. 1.]\n",
      " [0. 1.]\n",
      " [0. 1.]\n",
      " [0. 1.]]\n"
     ]
    }
   ],
   "source": [
    "print(state_values)\n",
    "print(policy_probs)"
   ]
  },
  {
   "cell_type": "markdown",
   "metadata": {},
   "source": [
    "# Testing the resulting agent"
   ]
  },
  {
   "cell_type": "code",
   "execution_count": 13,
   "metadata": {},
   "outputs": [
    {
     "data": {
      "image/png": "[encoded data removed]",
      "text/plain": [
       "<Figure size 640x480 with 1 Axes>"
      ]
     },
     "metadata": {},
     "output_type": "display_data"
    }
   ],
   "source": [
    "test_agent(env, policy)"
   ]
  }
 ],
 "metadata": {
  "kernelspec": {
   "display_name": "rlenv",
   "language": "python",
   "name": "python3"
  },
  "language_info": {
   "codemirror_mode": {
    "name": "ipython",
    "version": 3
   },
   "file_extension": ".py",
   "mimetype": "text/x-python",
   "name": "python",
   "nbconvert_exporter": "python",
   "pygments_lexer": "ipython3",
   "version": "3.9.13"
  },
  "orig_nbformat": 4
 },
 "nbformat": 4,
 "nbformat_minor": 2
}
