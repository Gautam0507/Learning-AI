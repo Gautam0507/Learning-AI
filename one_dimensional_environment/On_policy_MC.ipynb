{
 "cells": [
  {
   "cell_type": "markdown",
   "metadata": {},
   "source": [
    "## Creating the environement"
   ]
  },
  {
   "cell_type": "code",
   "execution_count": 1,
   "metadata": {},
   "outputs": [],
   "source": [
    "import gymnasium as gym\n",
    "import pygame\n",
    "import numpy as np\n",
    "from IPython.display import clear_output\n",
    "from IPython import display\n",
    "import random\n",
    "import matplotlib.pylab as plt\n",
    "import copy\n",
    "import time"
   ]
  },
  {
   "cell_type": "code",
   "execution_count": 2,
   "metadata": {},
   "outputs": [],
   "source": [
    "class SimpleCorridor(gym.Env):\n",
    "    def __init__(self, size=15):\n",
    "        self.length = size\n",
    "        self.start_pos = 0\n",
    "        self.end_pos = self.length - 1\n",
    "        self.action_space = gym.spaces.Discrete(2)\n",
    "        self.observation_space = gym.spaces.Box(\n",
    "            0.0, self.length, shape=(2,), dtype=int)\n",
    "        self.mode = \"rgb_array\"\n",
    "        self.width = 20\n",
    "\n",
    "    def reset(self):\n",
    "        self.current_pos = self.start_pos\n",
    "        return np.array([self.current_pos, self.end_pos])\n",
    "\n",
    "    def step(self, action):\n",
    "        if action == 0 and self.current_pos > 0:\n",
    "            self.current_pos -= 1\n",
    "        if action == 1 and self.current_pos < self.length - 1:\n",
    "            self.current_pos += 1\n",
    "        done = self.current_pos == self.end_pos\n",
    "        reward = 1 if done else -1\n",
    "        info = {}\n",
    "        return np.array([self.current_pos, self.end_pos]), reward, done, info\n",
    "\n",
    "    def simulate_step(self, tpos, action):\n",
    "        if action == 0 and tpos > 0:\n",
    "            tpos -= 1\n",
    "        if action == 1 and tpos < self.length -1:\n",
    "            tpos += 1\n",
    "            \n",
    "        done = tpos == self.end_pos\n",
    "        reward = 1 if done else -1\n",
    "        info = {}\n",
    "        return tpos, reward, done, info\n",
    "        \n",
    "    def render(self, mode=\"rgb_array\"):\n",
    "        canvas = pygame.Surface((self.width, self.width * self.length + 1))\n",
    "        canvas.fill((255,255,255))\n",
    "        for i in range(self.length+1):\n",
    "            pygame.draw.line(canvas, 0, (0, 20*(i)), (20, 20*(i)), width=1)\n",
    "        pygame.draw.line(canvas, 0, (0,0), (0, 20*(i)), width=1)\n",
    "        pygame.draw.line(canvas, 0, (19,0), (19, 20*(i)), width=1)\n",
    "        pygame.draw.circle(canvas, (0, 0, 255), (10,self.current_pos*20+10), 7)\n",
    "        pygame.draw.circle(canvas, (255, 0, 0), (10,(self.end_pos)*20+10), 7)\n",
    "        plArray = np.array(pygame.surfarray.pixels3d(canvas))\n",
    "        plt.imshow(plArray)        \n",
    "        plt.axis(\"off\")\n"
   ]
  },
  {
   "cell_type": "markdown",
   "metadata": {},
   "source": [
    "## Test Agent Function "
   ]
  },
  {
   "cell_type": "code",
   "execution_count": 3,
   "metadata": {},
   "outputs": [],
   "source": [
    "def test_agent(env: gym.Env, policy: callable, episodes: int = 10) -> None: \n",
    "    for episode in range(episodes):\n",
    "        temp = env.reset()\n",
    "        tagent_pos = temp[0]\n",
    "        ttarget_pos = temp[1]\n",
    "        done = False  \n",
    "       \n",
    "        env.render(mode=\"rgb_array\")\n",
    "        while not done:\n",
    "            p = policy(tagent_pos)\n",
    "            action = np.random.choice(2,p=p)\n",
    "\n",
    "            next_state, _, done, _ = env.step(action)\n",
    "            env.render()\n",
    "            plt.axis('off')\n",
    "            display.display(plt.gcf())\n",
    "            display.clear_output(wait=True)\n",
    "            \n",
    "            \n",
    "            tagent_pos = next_state[0]"
   ]
  },
  {
   "cell_type": "markdown",
   "metadata": {},
   "source": [
    "## Initialising the environment "
   ]
  },
  {
   "cell_type": "code",
   "execution_count": 4,
   "metadata": {},
   "outputs": [
    {
     "data": {
      "image/png": "[encoded data removed]",
      "text/plain": [
       "<Figure size 640x480 with 1 Axes>"
      ]
     },
     "metadata": {},
     "output_type": "display_data"
    }
   ],
   "source": [
    "env = SimpleCorridor()\n",
    "env.reset()\n",
    "env.render()\n"
   ]
  },
  {
   "attachments": {},
   "cell_type": "markdown",
   "metadata": {},
   "source": [
    "## Q Value Table"
   ]
  },
  {
   "cell_type": "code",
   "execution_count": 5,
   "metadata": {},
   "outputs": [
    {
     "name": "stdout",
     "output_type": "stream",
     "text": [
      "[[0. 0.]\n",
      " [0. 0.]\n",
      " [0. 0.]\n",
      " [0. 0.]\n",
      " [0. 0.]\n",
      " [0. 0.]\n",
      " [0. 0.]\n",
      " [0. 0.]\n",
      " [0. 0.]\n",
      " [0. 0.]\n",
      " [0. 0.]\n",
      " [0. 0.]\n",
      " [0. 0.]\n",
      " [0. 0.]\n",
      " [0. 0.]]\n"
     ]
    }
   ],
   "source": [
    "action_values = np.zeros(shape=(15,2))\n",
    "print(action_values)"
   ]
  },
  {
   "cell_type": "markdown",
   "metadata": {},
   "source": [
    "### Creating the Policy"
   ]
  },
  {
   "cell_type": "code",
   "execution_count": 6,
   "metadata": {},
   "outputs": [],
   "source": [
    "def policy(state, epsilon = 0.2):\n",
    "    if np.random.random() < epsilon:\n",
    "        return np.random.choice(2)\n",
    "    else: \n",
    "        av = action_values[state]\n",
    "        return np.random.choice(np.flatnonzero(av == av.max()))"
   ]
  },
  {
   "cell_type": "code",
   "execution_count": 7,
   "metadata": {},
   "outputs": [
    {
     "name": "stdout",
     "output_type": "stream",
     "text": [
      "The action taken in state 0 is 0\n"
     ]
    }
   ],
   "source": [
    "action = policy(0, epsilon = 0.5)\n",
    "print(f\"The action taken in state 0 is {action}\")"
   ]
  },
  {
   "attachments": {},
   "cell_type": "markdown",
   "metadata": {},
   "source": [
    "#### Testing the policy"
   ]
  },
  {
   "attachments": {},
   "cell_type": "markdown",
   "metadata": {},
   "source": [
    "# Implementing the algorithm"
   ]
  },
  {
   "cell_type": "code",
   "execution_count": 8,
   "metadata": {},
   "outputs": [],
   "source": [
    "def on_policy_mc_cotrol(policy, action_values, episodes, gamma = 0.99, epsilon = 0.2):\n",
    "\n",
    "    sa_returns = {}\n",
    "\n",
    "    for episode in range(1, episodes + 1):\n",
    "        positions = env.reset()\n",
    "        state = positions[0]\n",
    "        done = False\n",
    "        transitions = []\n",
    "\n",
    "        while not done: \n",
    "            action = policy(state, epsilon)\n",
    "            next_state, reward, done, _ = env.step(action)\n",
    "            transitions.append([state, action, reward])\n",
    "            state = next_state\n",
    "\n",
    "        G = 0\n",
    "\n",
    "        for state_t, action_t, reward_t in reversed(transitions):\n",
    "            G = reward_t + gamma * G\n",
    "            if not (state_t, action_t) in sa_returns:\n",
    "                sa_returns[(state_t, action_t)] = []\n",
    "            sa_returns[(state_t, action_t)].append(G)\n",
    "            action_values[state_t][action_t] = np.mean(sa_returns[(state_t, action_t)])"
   ]
  },
  {
   "cell_type": "code",
   "execution_count": 9,
   "metadata": {},
   "outputs": [
    {
     "ename": "TypeError",
     "evalue": "unhashable type: 'numpy.ndarray'",
     "output_type": "error",
     "traceback": [
      "\u001b[1;31m---------------------------------------------------------------------------\u001b[0m",
      "\u001b[1;31mTypeError\u001b[0m                                 Traceback (most recent call last)",
      "Cell \u001b[1;32mIn[9], line 1\u001b[0m\n\u001b[1;32m----> 1\u001b[0m on_policy_mc_cotrol(policy, action_values, \u001b[39m10000\u001b[39;49m)\n",
      "Cell \u001b[1;32mIn[8], line 21\u001b[0m, in \u001b[0;36mon_policy_mc_cotrol\u001b[1;34m(policy, action_values, episodes, gamma, epsilon)\u001b[0m\n\u001b[0;32m     19\u001b[0m \u001b[39mfor\u001b[39;00m state_t, action_t, reward_t \u001b[39min\u001b[39;00m \u001b[39mreversed\u001b[39m(transitions):\n\u001b[0;32m     20\u001b[0m     G \u001b[39m=\u001b[39m reward_t \u001b[39m+\u001b[39m gamma \u001b[39m*\u001b[39m G\n\u001b[1;32m---> 21\u001b[0m     \u001b[39mif\u001b[39;00m \u001b[39mnot\u001b[39;00m (state_t, action_t) \u001b[39min\u001b[39;49;00m sa_returns:\n\u001b[0;32m     22\u001b[0m         sa_returns[(state_t, action_t)] \u001b[39m=\u001b[39m []\n\u001b[0;32m     23\u001b[0m     sa_returns[(state_t, action_t)]\u001b[39m.\u001b[39mappend(G)\n",
      "\u001b[1;31mTypeError\u001b[0m: unhashable type: 'numpy.ndarray'"
     ]
    }
   ],
   "source": [
    "on_policy_mc_cotrol(policy, action_values, 10000)"
   ]
  },
  {
   "cell_type": "code",
   "execution_count": null,
   "metadata": {},
   "outputs": [],
   "source": []
  }
 ],
 "metadata": {
  "kernelspec": {
   "display_name": "rlenv",
   "language": "python",
   "name": "python3"
  },
  "language_info": {
   "codemirror_mode": {
    "name": "ipython",
    "version": 3
   },
   "file_extension": ".py",
   "mimetype": "text/x-python",
   "name": "python",
   "nbconvert_exporter": "python",
   "pygments_lexer": "ipython3",
   "version": "3.9.13"
  },
  "orig_nbformat": 4,
  "vscode": {
   "interpreter": {
    "hash": "47b4eb548d7dd0a9bfd7f71688e3b69926797fdf176ccc6df1d3d272164b67a3"
   }
  }
 },
 "nbformat": 4,
 "nbformat_minor": 2
}
