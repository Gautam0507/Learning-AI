{
  "cells": [
    {
      "cell_type": "markdown",
      "metadata": {
        "jukit_cell_id": "miMi46uRGL"
      },
      "source": [
        "# Importing all the libraries"
      ]
    },
    {
      "cell_type": "code",
      "metadata": {
        "jukit_cell_id": "EwH6BVebB4"
      },
      "source": [
        "import matplotlib.pyplot as plt\n",
        "import numpy as np\n",
        "\n",
        "from env import CliffWalking"
      ],
      "outputs": [],
      "execution_count": null
    },
    {
      "cell_type": "markdown",
      "metadata": {
        "jukit_cell_id": "vYl2a4EQ6A"
      },
      "source": [
        "# Creating the environment"
      ]
    },
    {
      "cell_type": "code",
      "metadata": {
        "jukit_cell_id": "bvDEJFkFJO"
      },
      "source": [
        "env = CliffWalking()\n",
        "env.reset()\n",
        "env.render()"
      ],
      "outputs": [],
      "execution_count": null
    },
    {
      "cell_type": "markdown",
      "metadata": {
        "jukit_cell_id": "kIobK3X5Zz"
      },
      "source": [
        "# Creating the Q(s,a) table"
      ]
    },
    {
      "cell_type": "code",
      "metadata": {
        "jukit_cell_id": "dlpev8L7NU"
      },
      "source": [
        "action_values = np.zeros((48, 4))"
      ],
      "outputs": [],
      "execution_count": null
    },
    {
      "cell_type": "code",
      "metadata": {
        "jukit_cell_id": "ejKjacumDB"
      },
      "source": [
        "print(action_values)"
      ],
      "outputs": [],
      "execution_count": null
    },
    {
      "cell_type": "markdown",
      "metadata": {
        "jukit_cell_id": "Ma5zSYRPmB"
      },
      "source": [
        "# Creating the policy"
      ]
    },
    {
      "cell_type": "code",
      "metadata": {
        "jukit_cell_id": "SU6oomGCXQ"
      },
      "source": [
        "def policy(state, epsilon=0.2):\n",
        "    if np.random.random() < epsilon:\n",
        "        return np.random.choice(4)\n",
        "    else:\n",
        "        av = action_values[state]\n",
        "        return np.argmax(av)"
      ],
      "outputs": [],
      "execution_count": null
    },
    {
      "cell_type": "code",
      "metadata": {
        "jukit_cell_id": "4wSUaeysVD"
      },
      "source": [
        "print(f\"The action chosen at state 0 is {policy(0)}\")"
      ],
      "outputs": [],
      "execution_count": null
    },
    {
      "cell_type": "markdown",
      "metadata": {
        "jukit_cell_id": "pmTASoBw1Q"
      },
      "source": [
        "# Implementing the algorithm"
      ]
    },
    {
      "cell_type": "code",
      "metadata": {
        "jukit_cell_id": "0D8pRLkAyi"
      },
      "source": [
        "def sarsa(action_values, policy, episodes=10000, alpha=0.1, gamma=0.99, epsilon=0.2):\n",
        "    for episode in range(1, episodes + 1):\n",
        "        state = env.reset()\n",
        "        done, terminated = False, False\n",
        "        action = policy(state, epsilon)\n",
        "        print(episode)\n",
        "        while not done or terminated:\n",
        "            next_state, reward, done, terminated = env.step(action)\n",
        "            next_action = policy(next_state, epsilon)\n",
        "\n",
        "            qsa = action_values[state][action]\n",
        "            next_qsa = action_values[next_state][next_action]\n",
        "\n",
        "            action_values[state][action] = qsa + alpha * (\n",
        "                reward + gamma * next_qsa - qsa\n",
        "            )\n",
        "            state, action = next_state, next_action"
      ],
      "outputs": [],
      "execution_count": null
    },
    {
      "cell_type": "code",
      "metadata": {
        "jukit_cell_id": "KQMK4DbTRE"
      },
      "source": [
        "sarsa(action_values, policy)"
      ],
      "outputs": [],
      "execution_count": null
    },
    {
      "cell_type": "markdown",
      "metadata": {
        "jukit_cell_id": "VofMGXvf0r"
      },
      "source": [
        "# Showing the results"
      ]
    },
    {
      "cell_type": "code",
      "metadata": {
        "jukit_cell_id": "CWKlZDqump"
      },
      "source": [
        "print(action_values)"
      ],
      "outputs": [],
      "execution_count": null
    },
    {
      "cell_type": "code",
      "metadata": {
        "jukit_cell_id": "GhA9vmtOPs"
      },
      "source": [
        "def test_agent(policy, episodes=1, epsilon=0):\n",
        "    env.pygame_init()\n",
        "    for episode in range(episodes):\n",
        "        state = env.reset()\n",
        "        done, terminated = False, False\n",
        "        while not (done or terminated):\n",
        "            action = policy(state, epsilon)\n",
        "            next_state, reward, done, terminated = env.step(action)\n",
        "            frame = env.render()\n",
        "            state = next_state\n",
        "        print(episode + 1)"
      ],
      "outputs": [],
      "execution_count": null
    },
    {
      "cell_type": "code",
      "metadata": {
        "jukit_cell_id": "ssOJOpTSWV"
      },
      "source": [
        "test_agent(policy)"
      ],
      "outputs": [],
      "execution_count": null
    },
    {
      "cell_type": "code",
      "metadata": {
        "jukit_cell_id": "nW46fzoX42"
      },
      "source": [
        "env.close()"
      ],
      "outputs": [],
      "execution_count": null
    }
  ],
  "metadata": {
    "anaconda-cloud": {},
    "kernelspec": {
      "display_name": "python",
      "language": "python",
      "name": "python3"
    }
  },
  "nbformat": 4,
  "nbformat_minor": 4
}