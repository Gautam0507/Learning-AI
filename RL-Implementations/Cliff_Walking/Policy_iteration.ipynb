{
 "cells": [
  {
   "attachments": {},
   "cell_type": "markdown",
   "metadata": {},
   "source": [
    "# Importing all the libraries"
   ]
  },
  {
   "cell_type": "code",
   "execution_count": null,
   "metadata": {},
   "outputs": [],
   "source": [
    "from env import CliffWalking\n",
    "import gymnasium as gym \n",
    "import numpy as np \n",
    "import pygame\n",
    "import matplotlib.pyplot as plt"
   ]
  },
  {
   "attachments": {},
   "cell_type": "markdown",
   "metadata": {},
   "source": [
    "# Initialising the environment"
   ]
  },
  {
   "cell_type": "code",
   "execution_count": null,
   "metadata": {},
   "outputs": [],
   "source": [
    "env = CliffWalking()\n",
    "env.reset()\n",
    "env.render()"
   ]
  },
  {
   "attachments": {},
   "cell_type": "markdown",
   "metadata": {},
   "source": [
    "# Creating the Policy"
   ]
  },
  {
   "cell_type": "code",
   "execution_count": null,
   "metadata": {},
   "outputs": [],
   "source": [
    "policy_probs = np.full((48,4), 0.25)\n",
    "print(policy_probs)"
   ]
  },
  {
   "cell_type": "code",
   "execution_count": null,
   "metadata": {},
   "outputs": [],
   "source": [
    "def policy(state):\n",
    "    return np.random.choice(4, p=policy_probs[state])"
   ]
  },
  {
   "attachments": {},
   "cell_type": "markdown",
   "metadata": {},
   "source": [
    "# Value Table"
   ]
  },
  {
   "cell_type": "code",
   "execution_count": null,
   "metadata": {},
   "outputs": [],
   "source": [
    "state_values = np.zeros(shape=(48))\n",
    "print(state_values)"
   ]
  },
  {
   "attachments": {},
   "cell_type": "markdown",
   "metadata": {},
   "source": [
    "# Implementing the policy iteration algorithm"
   ]
  },
  {
   "cell_type": "code",
   "execution_count": null,
   "metadata": {},
   "outputs": [],
   "source": [
    "def policy_evaluation(policy_probs, state_values, theta = 1e-6, gamma = 0.99) -> None:\n",
    "    delta = float(\"inf\")\n",
    "\n",
    "    while delta > theta: \n",
    "        delta = 0\n",
    "        for state in range(48):\n",
    "            old_value = state_values[state]\n",
    "            new_value = 0.\n",
    "            action_probablities = policy_probs[state]\n",
    "\n",
    "            for action, prob in enumerate(action_probablities):\n",
    "                next_state, reward,_,_ = env.simulate_step(state, action)\n",
    "                new_value += prob * (reward + gamma * state_values[next_state])\n",
    "\n",
    "            state_values[state] = new_value\n",
    "            delta = max(delta, abs(old_value - new_value))"
   ]
  },
  {
   "cell_type": "code",
   "execution_count": null,
   "metadata": {},
   "outputs": [],
   "source": [
    "def policy_improvement(policy_probs, state_values, gamma = 0.99):\n",
    "    policy_stable = True\n",
    "\n",
    "    for state in range(48):\n",
    "        old_action = policy_probs[state].argmax()\n",
    "\n",
    "        new_action = None\n",
    "        max_qsa = float(\"-inf\")\n",
    "\n",
    "        for action in range(4):\n",
    "            next_state, reward, _, _ = env.simulate_step(state, action)\n",
    "            qsa = reward + gamma * state_values[next_state]\n",
    "\n",
    "            if qsa > max_qsa:\n",
    "                new_action = action\n",
    "                max_qsa = qsa\n",
    "        \n",
    "        action_probs = np.zeros(4)\n",
    "        action_probs[new_action] = 1.\n",
    "        policy_probs[state] = action_probs\n",
    "\n",
    "        if new_action != old_action:\n",
    "            policy_stable = False\n",
    "\n",
    "    return policy_stable"
   ]
  },
  {
   "cell_type": "code",
   "execution_count": null,
   "metadata": {},
   "outputs": [],
   "source": [
    "def policy_iteration(policy_probs, state_values, theta = 1e-6, gamma = 0.99):\n",
    "    policy_stable = False\n",
    "\n",
    "    while not policy_stable:\n",
    "        policy_evaluation(policy_probs, state_values, theta, gamma)\n",
    "        policy_stable = policy_improvement(policy_probs, state_values, gamma)"
   ]
  },
  {
   "cell_type": "code",
   "execution_count": null,
   "metadata": {},
   "outputs": [],
   "source": [
    "policy_iteration(policy_probs, state_values)"
   ]
  },
  {
   "attachments": {},
   "cell_type": "markdown",
   "metadata": {},
   "source": [
    "# Printing the final values "
   ]
  },
  {
   "cell_type": "code",
   "execution_count": null,
   "metadata": {},
   "outputs": [],
   "source": [
    "print(state_values)"
   ]
  },
  {
   "cell_type": "code",
   "execution_count": null,
   "metadata": {},
   "outputs": [],
   "source": [
    "print(policy_probs)"
   ]
  },
  {
   "attachments": {},
   "cell_type": "markdown",
   "metadata": {},
   "source": [
    "# Testing the resulting agent "
   ]
  },
  {
   "cell_type": "code",
   "execution_count": null,
   "metadata": {},
   "outputs": [],
   "source": [
    "def test_agent(policy, episodes=1):\n",
    "    env.pygame_init()\n",
    "    for episode in range(episodes):\n",
    "        state = env.reset()\n",
    "        done, terminated = False, False\n",
    "        while not (done or terminated):\n",
    "            action = policy(state)\n",
    "            next_state, reward, done, terminated = env.step(action)\n",
    "            frame = env.render()\n",
    "            state = next_state\n",
    "        print(episode+1)"
   ]
  },
  {
   "cell_type": "code",
   "execution_count": null,
   "metadata": {},
   "outputs": [],
   "source": [
    "test_agent(policy)"
   ]
  },
  {
   "cell_type": "code",
   "execution_count": null,
   "metadata": {},
   "outputs": [],
   "source": [
    "env.close()"
   ]
  }
 ],
 "metadata": {
  "kernelspec": {
   "display_name": ".venv",
   "language": "python",
   "name": "python3"
  },
  "language_info": {
   "codemirror_mode": {
    "name": "ipython",
    "version": 3
   },
   "file_extension": ".py",
   "mimetype": "text/x-python",
   "name": "python",
   "nbconvert_exporter": "python",
   "pygments_lexer": "ipython3",
   "version": "3.11.2"
  },
  "orig_nbformat": 4
 },
 "nbformat": 4,
 "nbformat_minor": 2
}
