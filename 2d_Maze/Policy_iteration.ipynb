{
 "cells": [
  {
   "attachments": {},
   "cell_type": "markdown",
   "metadata": {},
   "source": [
    "# Importing libraries"
   ]
  },
  {
   "cell_type": "code",
   "execution_count": null,
   "metadata": {},
   "outputs": [],
   "source": [
    "import numpy as np \n",
    "import matplotlib.pyplot as plt \n",
    "\n",
    "from env import Grid, test_agent"
   ]
  },
  {
   "attachments": {},
   "cell_type": "markdown",
   "metadata": {},
   "source": [
    "# Initialising the Environment"
   ]
  },
  {
   "cell_type": "code",
   "execution_count": null,
   "metadata": {},
   "outputs": [],
   "source": [
    "envsize = 4\n",
    "env = Grid(size=envsize, type= \"random\")"
   ]
  },
  {
   "cell_type": "code",
   "execution_count": null,
   "metadata": {},
   "outputs": [],
   "source": [
    "info = env.reset()\n",
    "print(f\"The starting position is {info[0]}\")\n",
    "print(f\"The ending position is {info[1]}\")"
   ]
  },
  {
   "attachments": {},
   "cell_type": "markdown",
   "metadata": {},
   "source": [
    "# Defining the policy"
   ]
  },
  {
   "cell_type": "code",
   "execution_count": null,
   "metadata": {},
   "outputs": [],
   "source": [
    "policy_probs = np.full((envsize, envsize, 4), 0.25)"
   ]
  },
  {
   "cell_type": "code",
   "execution_count": null,
   "metadata": {},
   "outputs": [],
   "source": [
    "def policy(state):\n",
    "    return policy_probs[state]"
   ]
  },
  {
   "cell_type": "code",
   "execution_count": null,
   "metadata": {},
   "outputs": [],
   "source": [
    "action_probabilities = policy((0,0))\n",
    "for action, prob in zip(range(4), action_probabilities):\n",
    "    print(f\"Probability of taking action {action}: {prob}\")"
   ]
  },
  {
   "attachments": {},
   "cell_type": "markdown",
   "metadata": {},
   "source": [
    "# Defining the value table"
   ]
  },
  {
   "cell_type": "code",
   "execution_count": null,
   "metadata": {},
   "outputs": [],
   "source": [
    "state_values = np.zeros(shape = (envsize, envsize))"
   ]
  },
  {
   "cell_type": "code",
   "execution_count": null,
   "metadata": {},
   "outputs": [],
   "source": [
    "print(state_values)"
   ]
  },
  {
   "attachments": {},
   "cell_type": "markdown",
   "metadata": {},
   "source": [
    "# Implementing the policy iteration algorithm"
   ]
  },
  {
   "cell_type": "code",
   "execution_count": null,
   "metadata": {},
   "outputs": [],
   "source": [
    "def policy_evaluation(policy_probs, state_values, theta=1e-6, gamma=0.99):\n",
    "    delta = float(\"inf\")\n",
    "\n",
    "    while delta > theta:\n",
    "        delta = 0\n",
    "        for row in range(envsize):\n",
    "            for col in range(envsize):\n",
    "                old_value = state_values[(row, col)]\n",
    "                new_value = 0.\n",
    "                action_probabilities = policy_probs[(row, col)]\n",
    "\n",
    "                for action, prob in enumerate(action_probabilities):\n",
    "                    next_state, reward, _, _ = env.simulate_step((row, col), action)\n",
    "                    new_value += prob *(reward + gamma * state_values[next_state])\n",
    "\n",
    "                state_values[(row, col)] = new_value\n",
    "\n",
    "                delta = max(delta, abs(old_value - new_value))\n"
   ]
  },
  {
   "cell_type": "code",
   "execution_count": null,
   "metadata": {},
   "outputs": [],
   "source": [
    "def policy_improvement(policy_probs, state_values, gamma=0.99):\n",
    "    policy_stable = True\n",
    "\n",
    "    for row in range(envsize):\n",
    "        for col in range(envsize):\n",
    "            old_action = policy_probs[(row, col)].argmax()\n",
    "\n",
    "            new_action = None\n",
    "            max_qsa = float(\"-inf\")\n",
    "\n",
    "            for action in range(4):\n",
    "                next_state, reward, _, _ = env.simulate_step(\n",
    "                    (row, col), action)\n",
    "                qsa = reward + gamma * state_values[next_state]\n",
    "\n",
    "                if qsa > max_qsa:\n",
    "                    new_action = action\n",
    "                    max_qsa = qsa\n",
    "\n",
    "            action_probs = np.zeros(4)\n",
    "            action_probs[new_action] = 1.\n",
    "            policy_probs[(row, col)] = action_probs\n",
    "\n",
    "            if new_action != old_action:\n",
    "                policy_stable = False\n",
    "\n",
    "    return policy_stable"
   ]
  },
  {
   "cell_type": "code",
   "execution_count": null,
   "metadata": {},
   "outputs": [],
   "source": [
    "def policy_iteration(policy_probs, state_values, theta = 1e-6, gamma = 0.99):\n",
    "    policy_stable = False\n",
    "    \n",
    "    while not policy_stable: \n",
    "        policy_evaluation(policy_probs, state_values, theta, gamma)\n",
    "        policy_stable = policy_improvement(policy_probs, state_values, gamma)\n",
    "        "
   ]
  },
  {
   "cell_type": "code",
   "execution_count": null,
   "metadata": {},
   "outputs": [],
   "source": [
    "policy_iteration(policy_probs, state_values)"
   ]
  },
  {
   "cell_type": "code",
   "execution_count": null,
   "metadata": {},
   "outputs": [],
   "source": [
    "print(policy_probs)"
   ]
  },
  {
   "cell_type": "code",
   "execution_count": null,
   "metadata": {},
   "outputs": [],
   "source": [
    "print(state_values)"
   ]
  }
 ],
 "metadata": {
  "kernelspec": {
   "display_name": "rlenv",
   "language": "python",
   "name": "python3"
  },
  "language_info": {
   "codemirror_mode": {
    "name": "ipython",
    "version": 3
   },
   "file_extension": ".py",
   "mimetype": "text/x-python",
   "name": "python",
   "nbconvert_exporter": "python",
   "pygments_lexer": "ipython3",
   "version": "3.9.13"
  },
  "orig_nbformat": 4
 },
 "nbformat": 4,
 "nbformat_minor": 2
}
