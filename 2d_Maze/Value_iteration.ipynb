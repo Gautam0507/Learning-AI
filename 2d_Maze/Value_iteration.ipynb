{
 "cells": [
  {
   "attachments": {},
   "cell_type": "markdown",
   "metadata": {},
   "source": [
    "# Importing Libraries"
   ]
  },
  {
   "cell_type": "code",
   "execution_count": 23,
   "metadata": {},
   "outputs": [],
   "source": [
    "from env import Grid, test_agent\n",
    "import gymnasium as gym \n",
    "import numpy as np"
   ]
  },
  {
   "attachments": {},
   "cell_type": "markdown",
   "metadata": {},
   "source": [
    "# Initializing the Environment"
   ]
  },
  {
   "cell_type": "code",
   "execution_count": 24,
   "metadata": {},
   "outputs": [],
   "source": [
    "envSize = 4\n",
    "env = Grid(size=envSize,type=\"random\")\n"
   ]
  },
  {
   "cell_type": "code",
   "execution_count": 25,
   "metadata": {},
   "outputs": [
    {
     "name": "stdout",
     "output_type": "stream",
     "text": [
      "The starting position is [0 0]\n",
      "The ending position is [3 1]\n"
     ]
    }
   ],
   "source": [
    "info = env.reset()\n",
    "print(f\"The starting position is {info[0]}\")\n",
    "print(f\"The ending position is {info[1]}\")"
   ]
  },
  {
   "attachments": {},
   "cell_type": "markdown",
   "metadata": {},
   "source": [
    "# Defining the policy"
   ]
  },
  {
   "cell_type": "code",
   "execution_count": 26,
   "metadata": {},
   "outputs": [
    {
     "name": "stdout",
     "output_type": "stream",
     "text": [
      "[[[0.25 0.25 0.25 0.25]\n",
      "  [0.25 0.25 0.25 0.25]\n",
      "  [0.25 0.25 0.25 0.25]\n",
      "  [0.25 0.25 0.25 0.25]]\n",
      "\n",
      " [[0.25 0.25 0.25 0.25]\n",
      "  [0.25 0.25 0.25 0.25]\n",
      "  [0.25 0.25 0.25 0.25]\n",
      "  [0.25 0.25 0.25 0.25]]\n",
      "\n",
      " [[0.25 0.25 0.25 0.25]\n",
      "  [0.25 0.25 0.25 0.25]\n",
      "  [0.25 0.25 0.25 0.25]\n",
      "  [0.25 0.25 0.25 0.25]]\n",
      "\n",
      " [[0.25 0.25 0.25 0.25]\n",
      "  [0.25 0.25 0.25 0.25]\n",
      "  [0.25 0.25 0.25 0.25]\n",
      "  [0.25 0.25 0.25 0.25]]]\n"
     ]
    }
   ],
   "source": [
    "policy_probs = np.full((envSize, envSize, 4), 0.25)\n",
    "print(policy_probs)"
   ]
  },
  {
   "cell_type": "code",
   "execution_count": 27,
   "metadata": {},
   "outputs": [],
   "source": [
    "def policy(current_pos):\n",
    "    return policy_probs[current_pos]"
   ]
  },
  {
   "attachments": {},
   "cell_type": "markdown",
   "metadata": {},
   "source": [
    "#### Testing the policy with state (0,0)"
   ]
  },
  {
   "cell_type": "code",
   "execution_count": 28,
   "metadata": {},
   "outputs": [
    {
     "name": "stdout",
     "output_type": "stream",
     "text": [
      "Probablity of taking action 0: 0.25\n",
      "Probablity of taking action 1: 0.25\n",
      "Probablity of taking action 2: 0.25\n",
      "Probablity of taking action 3: 0.25\n"
     ]
    }
   ],
   "source": [
    "action_probablities = policy((0,0))\n",
    "for action, prob in zip(range(4), action_probablities):\n",
    "    print(f\"Probablity of taking action {action}: {prob}\")"
   ]
  },
  {
   "attachments": {},
   "cell_type": "markdown",
   "metadata": {},
   "source": [
    "# Definig the Value table"
   ]
  },
  {
   "cell_type": "code",
   "execution_count": 29,
   "metadata": {},
   "outputs": [
    {
     "name": "stdout",
     "output_type": "stream",
     "text": [
      "[[0. 0. 0. 0.]\n",
      " [0. 0. 0. 0.]\n",
      " [0. 0. 0. 0.]\n",
      " [0. 0. 0. 0.]]\n"
     ]
    }
   ],
   "source": [
    "state_values = np.zeros((envSize, envSize))\n",
    "print(state_values)"
   ]
  },
  {
   "attachments": {},
   "cell_type": "markdown",
   "metadata": {},
   "source": [
    "# Implementing the value iteration algorithm"
   ]
  },
  {
   "cell_type": "code",
   "execution_count": 30,
   "metadata": {},
   "outputs": [],
   "source": [
    "def value_iteration(policy_probs, state_values, theta = 1e-6, gamma = 0.99):\n",
    "    delta = float(\"inf\")\n",
    "\n",
    "    while delta > theta:\n",
    "        delta = 0\n",
    "\n",
    "        for row in range(envSize):\n",
    "            for col in range(envSize):\n",
    "                old_value = state_values[(row,col)]\n",
    "                action_probs = None\n",
    "                max_qsa = float(\"-inf\")\n",
    "\n",
    "                for action in range(4): \n",
    "                    next_state, reward, _,_ = env.simulate_step((row,col), action)\n",
    "                    qsa = reward + gamma * state_values[next_state]\n",
    "\n",
    "                    if qsa > max_qsa:\n",
    "                        max_qsa = qsa\n",
    "                        action_probs = np.zeros(4)\n",
    "                        action_probs[action] = 1\n",
    "\n",
    "                state_values[row][col] = max_qsa\n",
    "                policy_probs[row][col] = action_probs\n",
    "                delta = max(delta, abs(max_qsa - old_value))\n"
   ]
  },
  {
   "cell_type": "code",
   "execution_count": 31,
   "metadata": {},
   "outputs": [],
   "source": [
    "value_iteration(policy_probs, state_values)"
   ]
  },
  {
   "cell_type": "code",
   "execution_count": 32,
   "metadata": {},
   "outputs": [
    {
     "name": "stdout",
     "output_type": "stream",
     "text": [
      "[[96.05950237 97.02980137 96.05950335 95.09890832]\n",
      " [97.02980137 98.00990137 97.02980235 96.05950433]\n",
      " [98.00990137 98.99990137 98.00990235 97.02980333]\n",
      " [98.99990137 99.99990137 98.99990235 98.00990333]]\n"
     ]
    }
   ],
   "source": [
    "print(state_values)"
   ]
  },
  {
   "cell_type": "code",
   "execution_count": 33,
   "metadata": {},
   "outputs": [
    {
     "name": "stdout",
     "output_type": "stream",
     "text": [
      "[[[0. 1. 0. 0.]\n",
      "  [0. 0. 1. 0.]\n",
      "  [0. 0. 1. 0.]\n",
      "  [0. 0. 1. 0.]]\n",
      "\n",
      " [[0. 1. 0. 0.]\n",
      "  [0. 0. 1. 0.]\n",
      "  [0. 0. 1. 0.]\n",
      "  [0. 0. 1. 0.]]\n",
      "\n",
      " [[0. 1. 0. 0.]\n",
      "  [0. 0. 1. 0.]\n",
      "  [0. 0. 1. 0.]\n",
      "  [0. 0. 1. 0.]]\n",
      "\n",
      " [[0. 1. 0. 0.]\n",
      "  [0. 0. 1. 0.]\n",
      "  [0. 0. 0. 1.]\n",
      "  [0. 0. 0. 1.]]]\n"
     ]
    }
   ],
   "source": [
    "print(policy_probs)"
   ]
  }
 ],
 "metadata": {
  "kernelspec": {
   "display_name": "rlenv",
   "language": "python",
   "name": "python3"
  },
  "language_info": {
   "codemirror_mode": {
    "name": "ipython",
    "version": 3
   },
   "file_extension": ".py",
   "mimetype": "text/x-python",
   "name": "python",
   "nbconvert_exporter": "python",
   "pygments_lexer": "ipython3",
   "version": "3.9.13"
  },
  "orig_nbformat": 4
 },
 "nbformat": 4,
 "nbformat_minor": 2
}
